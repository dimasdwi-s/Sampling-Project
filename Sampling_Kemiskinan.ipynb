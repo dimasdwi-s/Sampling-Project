{
  "nbformat": 4,
  "nbformat_minor": 0,
  "metadata": {
    "colab": {
      "provenance": []
    },
    "kernelspec": {
      "name": "python3",
      "display_name": "Python 3"
    },
    "language_info": {
      "name": "python"
    }
  },
  "cells": [
    {
      "cell_type": "code",
      "execution_count": 1,
      "metadata": {
        "id": "hVLzy_k6Kcy_",
        "colab": {
          "base_uri": "https://localhost:8080/"
        },
        "outputId": "3e5274c0-939c-4a46-bf40-135861c13392"
      },
      "outputs": [
        {
          "output_type": "stream",
          "name": "stdout",
          "text": [
            "Drive already mounted at /content/drive; to attempt to forcibly remount, call drive.mount(\"/content/drive\", force_remount=True).\n"
          ]
        }
      ],
      "source": [
        "from google.colab import drive\n",
        "drive.mount('/content/drive')"
      ]
    },
    {
      "cell_type": "code",
      "source": [
        "import numpy as np\n",
        "import pandas as pd\n",
        "import math\n",
        "import random\n",
        "import scipy.stats as stats"
      ],
      "metadata": {
        "id": "xvtb9p2NKrwn"
      },
      "execution_count": 2,
      "outputs": []
    },
    {
      "cell_type": "markdown",
      "source": [
        "### 1. Data Overview"
      ],
      "metadata": {
        "id": "dW6_f9miKv2v"
      }
    },
    {
      "cell_type": "code",
      "source": [
        "# Load data\n",
        "\n",
        "data = pd.read_excel(\"/content/drive/MyDrive/Pacmann/P. Sampling/Keluarga Miskin Kota Yogyakarta, Kab. Sleman, dan Kab. Kulonprogo.xlsx\")"
      ],
      "metadata": {
        "id": "sSUfgDSkKvVh"
      },
      "execution_count": 3,
      "outputs": []
    },
    {
      "cell_type": "code",
      "source": [
        "# melihat 5 data teratas\n",
        "\n",
        "data.head()"
      ],
      "metadata": {
        "id": "3819NaEdOCtt",
        "colab": {
          "base_uri": "https://localhost:8080/",
          "height": 206
        },
        "outputId": "7d01b6d8-9cb2-4bff-f51a-7cddc73bd36d"
      },
      "execution_count": 4,
      "outputs": [
        {
          "output_type": "execute_result",
          "data": {
            "text/plain": [
              "      Kelurahan Kecamatan  Jumlah\n",
              "0     Jogotirto    Berbah     410\n",
              "1  Sendangtirto    Berbah     515\n",
              "2    Tegaltirto    Berbah     370\n",
              "3  Sumberrahayu   Moyudan     260\n",
              "4     Sidokarto    Godean     490"
            ],
            "text/html": [
              "\n",
              "  <div id=\"df-c1b13f81-220c-41a4-8b78-e2f33e2c34b4\" class=\"colab-df-container\">\n",
              "    <div>\n",
              "<style scoped>\n",
              "    .dataframe tbody tr th:only-of-type {\n",
              "        vertical-align: middle;\n",
              "    }\n",
              "\n",
              "    .dataframe tbody tr th {\n",
              "        vertical-align: top;\n",
              "    }\n",
              "\n",
              "    .dataframe thead th {\n",
              "        text-align: right;\n",
              "    }\n",
              "</style>\n",
              "<table border=\"1\" class=\"dataframe\">\n",
              "  <thead>\n",
              "    <tr style=\"text-align: right;\">\n",
              "      <th></th>\n",
              "      <th>Kelurahan</th>\n",
              "      <th>Kecamatan</th>\n",
              "      <th>Jumlah</th>\n",
              "    </tr>\n",
              "  </thead>\n",
              "  <tbody>\n",
              "    <tr>\n",
              "      <th>0</th>\n",
              "      <td>Jogotirto</td>\n",
              "      <td>Berbah</td>\n",
              "      <td>410</td>\n",
              "    </tr>\n",
              "    <tr>\n",
              "      <th>1</th>\n",
              "      <td>Sendangtirto</td>\n",
              "      <td>Berbah</td>\n",
              "      <td>515</td>\n",
              "    </tr>\n",
              "    <tr>\n",
              "      <th>2</th>\n",
              "      <td>Tegaltirto</td>\n",
              "      <td>Berbah</td>\n",
              "      <td>370</td>\n",
              "    </tr>\n",
              "    <tr>\n",
              "      <th>3</th>\n",
              "      <td>Sumberrahayu</td>\n",
              "      <td>Moyudan</td>\n",
              "      <td>260</td>\n",
              "    </tr>\n",
              "    <tr>\n",
              "      <th>4</th>\n",
              "      <td>Sidokarto</td>\n",
              "      <td>Godean</td>\n",
              "      <td>490</td>\n",
              "    </tr>\n",
              "  </tbody>\n",
              "</table>\n",
              "</div>\n",
              "    <div class=\"colab-df-buttons\">\n",
              "\n",
              "  <div class=\"colab-df-container\">\n",
              "    <button class=\"colab-df-convert\" onclick=\"convertToInteractive('df-c1b13f81-220c-41a4-8b78-e2f33e2c34b4')\"\n",
              "            title=\"Convert this dataframe to an interactive table.\"\n",
              "            style=\"display:none;\">\n",
              "\n",
              "  <svg xmlns=\"http://www.w3.org/2000/svg\" height=\"24px\" viewBox=\"0 -960 960 960\">\n",
              "    <path d=\"M120-120v-720h720v720H120Zm60-500h600v-160H180v160Zm220 220h160v-160H400v160Zm0 220h160v-160H400v160ZM180-400h160v-160H180v160Zm440 0h160v-160H620v160ZM180-180h160v-160H180v160Zm440 0h160v-160H620v160Z\"/>\n",
              "  </svg>\n",
              "    </button>\n",
              "\n",
              "  <style>\n",
              "    .colab-df-container {\n",
              "      display:flex;\n",
              "      gap: 12px;\n",
              "    }\n",
              "\n",
              "    .colab-df-convert {\n",
              "      background-color: #E8F0FE;\n",
              "      border: none;\n",
              "      border-radius: 50%;\n",
              "      cursor: pointer;\n",
              "      display: none;\n",
              "      fill: #1967D2;\n",
              "      height: 32px;\n",
              "      padding: 0 0 0 0;\n",
              "      width: 32px;\n",
              "    }\n",
              "\n",
              "    .colab-df-convert:hover {\n",
              "      background-color: #E2EBFA;\n",
              "      box-shadow: 0px 1px 2px rgba(60, 64, 67, 0.3), 0px 1px 3px 1px rgba(60, 64, 67, 0.15);\n",
              "      fill: #174EA6;\n",
              "    }\n",
              "\n",
              "    .colab-df-buttons div {\n",
              "      margin-bottom: 4px;\n",
              "    }\n",
              "\n",
              "    [theme=dark] .colab-df-convert {\n",
              "      background-color: #3B4455;\n",
              "      fill: #D2E3FC;\n",
              "    }\n",
              "\n",
              "    [theme=dark] .colab-df-convert:hover {\n",
              "      background-color: #434B5C;\n",
              "      box-shadow: 0px 1px 3px 1px rgba(0, 0, 0, 0.15);\n",
              "      filter: drop-shadow(0px 1px 2px rgba(0, 0, 0, 0.3));\n",
              "      fill: #FFFFFF;\n",
              "    }\n",
              "  </style>\n",
              "\n",
              "    <script>\n",
              "      const buttonEl =\n",
              "        document.querySelector('#df-c1b13f81-220c-41a4-8b78-e2f33e2c34b4 button.colab-df-convert');\n",
              "      buttonEl.style.display =\n",
              "        google.colab.kernel.accessAllowed ? 'block' : 'none';\n",
              "\n",
              "      async function convertToInteractive(key) {\n",
              "        const element = document.querySelector('#df-c1b13f81-220c-41a4-8b78-e2f33e2c34b4');\n",
              "        const dataTable =\n",
              "          await google.colab.kernel.invokeFunction('convertToInteractive',\n",
              "                                                    [key], {});\n",
              "        if (!dataTable) return;\n",
              "\n",
              "        const docLinkHtml = 'Like what you see? Visit the ' +\n",
              "          '<a target=\"_blank\" href=https://colab.research.google.com/notebooks/data_table.ipynb>data table notebook</a>'\n",
              "          + ' to learn more about interactive tables.';\n",
              "        element.innerHTML = '';\n",
              "        dataTable['output_type'] = 'display_data';\n",
              "        await google.colab.output.renderOutput(dataTable, element);\n",
              "        const docLink = document.createElement('div');\n",
              "        docLink.innerHTML = docLinkHtml;\n",
              "        element.appendChild(docLink);\n",
              "      }\n",
              "    </script>\n",
              "  </div>\n",
              "\n",
              "\n",
              "<div id=\"df-ba08e343-3445-4bcd-bc51-519c9e9e6787\">\n",
              "  <button class=\"colab-df-quickchart\" onclick=\"quickchart('df-ba08e343-3445-4bcd-bc51-519c9e9e6787')\"\n",
              "            title=\"Suggest charts.\"\n",
              "            style=\"display:none;\">\n",
              "\n",
              "<svg xmlns=\"http://www.w3.org/2000/svg\" height=\"24px\"viewBox=\"0 0 24 24\"\n",
              "     width=\"24px\">\n",
              "    <g>\n",
              "        <path d=\"M19 3H5c-1.1 0-2 .9-2 2v14c0 1.1.9 2 2 2h14c1.1 0 2-.9 2-2V5c0-1.1-.9-2-2-2zM9 17H7v-7h2v7zm4 0h-2V7h2v10zm4 0h-2v-4h2v4z\"/>\n",
              "    </g>\n",
              "</svg>\n",
              "  </button>\n",
              "\n",
              "<style>\n",
              "  .colab-df-quickchart {\n",
              "      --bg-color: #E8F0FE;\n",
              "      --fill-color: #1967D2;\n",
              "      --hover-bg-color: #E2EBFA;\n",
              "      --hover-fill-color: #174EA6;\n",
              "      --disabled-fill-color: #AAA;\n",
              "      --disabled-bg-color: #DDD;\n",
              "  }\n",
              "\n",
              "  [theme=dark] .colab-df-quickchart {\n",
              "      --bg-color: #3B4455;\n",
              "      --fill-color: #D2E3FC;\n",
              "      --hover-bg-color: #434B5C;\n",
              "      --hover-fill-color: #FFFFFF;\n",
              "      --disabled-bg-color: #3B4455;\n",
              "      --disabled-fill-color: #666;\n",
              "  }\n",
              "\n",
              "  .colab-df-quickchart {\n",
              "    background-color: var(--bg-color);\n",
              "    border: none;\n",
              "    border-radius: 50%;\n",
              "    cursor: pointer;\n",
              "    display: none;\n",
              "    fill: var(--fill-color);\n",
              "    height: 32px;\n",
              "    padding: 0;\n",
              "    width: 32px;\n",
              "  }\n",
              "\n",
              "  .colab-df-quickchart:hover {\n",
              "    background-color: var(--hover-bg-color);\n",
              "    box-shadow: 0 1px 2px rgba(60, 64, 67, 0.3), 0 1px 3px 1px rgba(60, 64, 67, 0.15);\n",
              "    fill: var(--button-hover-fill-color);\n",
              "  }\n",
              "\n",
              "  .colab-df-quickchart-complete:disabled,\n",
              "  .colab-df-quickchart-complete:disabled:hover {\n",
              "    background-color: var(--disabled-bg-color);\n",
              "    fill: var(--disabled-fill-color);\n",
              "    box-shadow: none;\n",
              "  }\n",
              "\n",
              "  .colab-df-spinner {\n",
              "    border: 2px solid var(--fill-color);\n",
              "    border-color: transparent;\n",
              "    border-bottom-color: var(--fill-color);\n",
              "    animation:\n",
              "      spin 1s steps(1) infinite;\n",
              "  }\n",
              "\n",
              "  @keyframes spin {\n",
              "    0% {\n",
              "      border-color: transparent;\n",
              "      border-bottom-color: var(--fill-color);\n",
              "      border-left-color: var(--fill-color);\n",
              "    }\n",
              "    20% {\n",
              "      border-color: transparent;\n",
              "      border-left-color: var(--fill-color);\n",
              "      border-top-color: var(--fill-color);\n",
              "    }\n",
              "    30% {\n",
              "      border-color: transparent;\n",
              "      border-left-color: var(--fill-color);\n",
              "      border-top-color: var(--fill-color);\n",
              "      border-right-color: var(--fill-color);\n",
              "    }\n",
              "    40% {\n",
              "      border-color: transparent;\n",
              "      border-right-color: var(--fill-color);\n",
              "      border-top-color: var(--fill-color);\n",
              "    }\n",
              "    60% {\n",
              "      border-color: transparent;\n",
              "      border-right-color: var(--fill-color);\n",
              "    }\n",
              "    80% {\n",
              "      border-color: transparent;\n",
              "      border-right-color: var(--fill-color);\n",
              "      border-bottom-color: var(--fill-color);\n",
              "    }\n",
              "    90% {\n",
              "      border-color: transparent;\n",
              "      border-bottom-color: var(--fill-color);\n",
              "    }\n",
              "  }\n",
              "</style>\n",
              "\n",
              "  <script>\n",
              "    async function quickchart(key) {\n",
              "      const quickchartButtonEl =\n",
              "        document.querySelector('#' + key + ' button');\n",
              "      quickchartButtonEl.disabled = true;  // To prevent multiple clicks.\n",
              "      quickchartButtonEl.classList.add('colab-df-spinner');\n",
              "      try {\n",
              "        const charts = await google.colab.kernel.invokeFunction(\n",
              "            'suggestCharts', [key], {});\n",
              "      } catch (error) {\n",
              "        console.error('Error during call to suggestCharts:', error);\n",
              "      }\n",
              "      quickchartButtonEl.classList.remove('colab-df-spinner');\n",
              "      quickchartButtonEl.classList.add('colab-df-quickchart-complete');\n",
              "    }\n",
              "    (() => {\n",
              "      let quickchartButtonEl =\n",
              "        document.querySelector('#df-ba08e343-3445-4bcd-bc51-519c9e9e6787 button');\n",
              "      quickchartButtonEl.style.display =\n",
              "        google.colab.kernel.accessAllowed ? 'block' : 'none';\n",
              "    })();\n",
              "  </script>\n",
              "</div>\n",
              "    </div>\n",
              "  </div>\n"
            ]
          },
          "metadata": {},
          "execution_count": 4
        }
      ]
    },
    {
      "cell_type": "code",
      "source": [
        "#info Statistiknya\n",
        "\n",
        "data.describe()"
      ],
      "metadata": {
        "id": "6TBW-ylQM8A9",
        "colab": {
          "base_uri": "https://localhost:8080/",
          "height": 300
        },
        "outputId": "62367eaa-c8f6-4bce-d454-51c7edf7ad07"
      },
      "execution_count": 5,
      "outputs": [
        {
          "output_type": "execute_result",
          "data": {
            "text/plain": [
              "           Jumlah\n",
              "count  219.000000\n",
              "mean   352.442922\n",
              "std    203.924906\n",
              "min     10.000000\n",
              "25%    206.000000\n",
              "50%    327.000000\n",
              "75%    500.500000\n",
              "max    986.000000"
            ],
            "text/html": [
              "\n",
              "  <div id=\"df-e0258d60-7c48-4f02-8d7a-5769b877a976\" class=\"colab-df-container\">\n",
              "    <div>\n",
              "<style scoped>\n",
              "    .dataframe tbody tr th:only-of-type {\n",
              "        vertical-align: middle;\n",
              "    }\n",
              "\n",
              "    .dataframe tbody tr th {\n",
              "        vertical-align: top;\n",
              "    }\n",
              "\n",
              "    .dataframe thead th {\n",
              "        text-align: right;\n",
              "    }\n",
              "</style>\n",
              "<table border=\"1\" class=\"dataframe\">\n",
              "  <thead>\n",
              "    <tr style=\"text-align: right;\">\n",
              "      <th></th>\n",
              "      <th>Jumlah</th>\n",
              "    </tr>\n",
              "  </thead>\n",
              "  <tbody>\n",
              "    <tr>\n",
              "      <th>count</th>\n",
              "      <td>219.000000</td>\n",
              "    </tr>\n",
              "    <tr>\n",
              "      <th>mean</th>\n",
              "      <td>352.442922</td>\n",
              "    </tr>\n",
              "    <tr>\n",
              "      <th>std</th>\n",
              "      <td>203.924906</td>\n",
              "    </tr>\n",
              "    <tr>\n",
              "      <th>min</th>\n",
              "      <td>10.000000</td>\n",
              "    </tr>\n",
              "    <tr>\n",
              "      <th>25%</th>\n",
              "      <td>206.000000</td>\n",
              "    </tr>\n",
              "    <tr>\n",
              "      <th>50%</th>\n",
              "      <td>327.000000</td>\n",
              "    </tr>\n",
              "    <tr>\n",
              "      <th>75%</th>\n",
              "      <td>500.500000</td>\n",
              "    </tr>\n",
              "    <tr>\n",
              "      <th>max</th>\n",
              "      <td>986.000000</td>\n",
              "    </tr>\n",
              "  </tbody>\n",
              "</table>\n",
              "</div>\n",
              "    <div class=\"colab-df-buttons\">\n",
              "\n",
              "  <div class=\"colab-df-container\">\n",
              "    <button class=\"colab-df-convert\" onclick=\"convertToInteractive('df-e0258d60-7c48-4f02-8d7a-5769b877a976')\"\n",
              "            title=\"Convert this dataframe to an interactive table.\"\n",
              "            style=\"display:none;\">\n",
              "\n",
              "  <svg xmlns=\"http://www.w3.org/2000/svg\" height=\"24px\" viewBox=\"0 -960 960 960\">\n",
              "    <path d=\"M120-120v-720h720v720H120Zm60-500h600v-160H180v160Zm220 220h160v-160H400v160Zm0 220h160v-160H400v160ZM180-400h160v-160H180v160Zm440 0h160v-160H620v160ZM180-180h160v-160H180v160Zm440 0h160v-160H620v160Z\"/>\n",
              "  </svg>\n",
              "    </button>\n",
              "\n",
              "  <style>\n",
              "    .colab-df-container {\n",
              "      display:flex;\n",
              "      gap: 12px;\n",
              "    }\n",
              "\n",
              "    .colab-df-convert {\n",
              "      background-color: #E8F0FE;\n",
              "      border: none;\n",
              "      border-radius: 50%;\n",
              "      cursor: pointer;\n",
              "      display: none;\n",
              "      fill: #1967D2;\n",
              "      height: 32px;\n",
              "      padding: 0 0 0 0;\n",
              "      width: 32px;\n",
              "    }\n",
              "\n",
              "    .colab-df-convert:hover {\n",
              "      background-color: #E2EBFA;\n",
              "      box-shadow: 0px 1px 2px rgba(60, 64, 67, 0.3), 0px 1px 3px 1px rgba(60, 64, 67, 0.15);\n",
              "      fill: #174EA6;\n",
              "    }\n",
              "\n",
              "    .colab-df-buttons div {\n",
              "      margin-bottom: 4px;\n",
              "    }\n",
              "\n",
              "    [theme=dark] .colab-df-convert {\n",
              "      background-color: #3B4455;\n",
              "      fill: #D2E3FC;\n",
              "    }\n",
              "\n",
              "    [theme=dark] .colab-df-convert:hover {\n",
              "      background-color: #434B5C;\n",
              "      box-shadow: 0px 1px 3px 1px rgba(0, 0, 0, 0.15);\n",
              "      filter: drop-shadow(0px 1px 2px rgba(0, 0, 0, 0.3));\n",
              "      fill: #FFFFFF;\n",
              "    }\n",
              "  </style>\n",
              "\n",
              "    <script>\n",
              "      const buttonEl =\n",
              "        document.querySelector('#df-e0258d60-7c48-4f02-8d7a-5769b877a976 button.colab-df-convert');\n",
              "      buttonEl.style.display =\n",
              "        google.colab.kernel.accessAllowed ? 'block' : 'none';\n",
              "\n",
              "      async function convertToInteractive(key) {\n",
              "        const element = document.querySelector('#df-e0258d60-7c48-4f02-8d7a-5769b877a976');\n",
              "        const dataTable =\n",
              "          await google.colab.kernel.invokeFunction('convertToInteractive',\n",
              "                                                    [key], {});\n",
              "        if (!dataTable) return;\n",
              "\n",
              "        const docLinkHtml = 'Like what you see? Visit the ' +\n",
              "          '<a target=\"_blank\" href=https://colab.research.google.com/notebooks/data_table.ipynb>data table notebook</a>'\n",
              "          + ' to learn more about interactive tables.';\n",
              "        element.innerHTML = '';\n",
              "        dataTable['output_type'] = 'display_data';\n",
              "        await google.colab.output.renderOutput(dataTable, element);\n",
              "        const docLink = document.createElement('div');\n",
              "        docLink.innerHTML = docLinkHtml;\n",
              "        element.appendChild(docLink);\n",
              "      }\n",
              "    </script>\n",
              "  </div>\n",
              "\n",
              "\n",
              "<div id=\"df-be4e63dd-146e-4c2c-822e-a3f2e4e53b91\">\n",
              "  <button class=\"colab-df-quickchart\" onclick=\"quickchart('df-be4e63dd-146e-4c2c-822e-a3f2e4e53b91')\"\n",
              "            title=\"Suggest charts.\"\n",
              "            style=\"display:none;\">\n",
              "\n",
              "<svg xmlns=\"http://www.w3.org/2000/svg\" height=\"24px\"viewBox=\"0 0 24 24\"\n",
              "     width=\"24px\">\n",
              "    <g>\n",
              "        <path d=\"M19 3H5c-1.1 0-2 .9-2 2v14c0 1.1.9 2 2 2h14c1.1 0 2-.9 2-2V5c0-1.1-.9-2-2-2zM9 17H7v-7h2v7zm4 0h-2V7h2v10zm4 0h-2v-4h2v4z\"/>\n",
              "    </g>\n",
              "</svg>\n",
              "  </button>\n",
              "\n",
              "<style>\n",
              "  .colab-df-quickchart {\n",
              "      --bg-color: #E8F0FE;\n",
              "      --fill-color: #1967D2;\n",
              "      --hover-bg-color: #E2EBFA;\n",
              "      --hover-fill-color: #174EA6;\n",
              "      --disabled-fill-color: #AAA;\n",
              "      --disabled-bg-color: #DDD;\n",
              "  }\n",
              "\n",
              "  [theme=dark] .colab-df-quickchart {\n",
              "      --bg-color: #3B4455;\n",
              "      --fill-color: #D2E3FC;\n",
              "      --hover-bg-color: #434B5C;\n",
              "      --hover-fill-color: #FFFFFF;\n",
              "      --disabled-bg-color: #3B4455;\n",
              "      --disabled-fill-color: #666;\n",
              "  }\n",
              "\n",
              "  .colab-df-quickchart {\n",
              "    background-color: var(--bg-color);\n",
              "    border: none;\n",
              "    border-radius: 50%;\n",
              "    cursor: pointer;\n",
              "    display: none;\n",
              "    fill: var(--fill-color);\n",
              "    height: 32px;\n",
              "    padding: 0;\n",
              "    width: 32px;\n",
              "  }\n",
              "\n",
              "  .colab-df-quickchart:hover {\n",
              "    background-color: var(--hover-bg-color);\n",
              "    box-shadow: 0 1px 2px rgba(60, 64, 67, 0.3), 0 1px 3px 1px rgba(60, 64, 67, 0.15);\n",
              "    fill: var(--button-hover-fill-color);\n",
              "  }\n",
              "\n",
              "  .colab-df-quickchart-complete:disabled,\n",
              "  .colab-df-quickchart-complete:disabled:hover {\n",
              "    background-color: var(--disabled-bg-color);\n",
              "    fill: var(--disabled-fill-color);\n",
              "    box-shadow: none;\n",
              "  }\n",
              "\n",
              "  .colab-df-spinner {\n",
              "    border: 2px solid var(--fill-color);\n",
              "    border-color: transparent;\n",
              "    border-bottom-color: var(--fill-color);\n",
              "    animation:\n",
              "      spin 1s steps(1) infinite;\n",
              "  }\n",
              "\n",
              "  @keyframes spin {\n",
              "    0% {\n",
              "      border-color: transparent;\n",
              "      border-bottom-color: var(--fill-color);\n",
              "      border-left-color: var(--fill-color);\n",
              "    }\n",
              "    20% {\n",
              "      border-color: transparent;\n",
              "      border-left-color: var(--fill-color);\n",
              "      border-top-color: var(--fill-color);\n",
              "    }\n",
              "    30% {\n",
              "      border-color: transparent;\n",
              "      border-left-color: var(--fill-color);\n",
              "      border-top-color: var(--fill-color);\n",
              "      border-right-color: var(--fill-color);\n",
              "    }\n",
              "    40% {\n",
              "      border-color: transparent;\n",
              "      border-right-color: var(--fill-color);\n",
              "      border-top-color: var(--fill-color);\n",
              "    }\n",
              "    60% {\n",
              "      border-color: transparent;\n",
              "      border-right-color: var(--fill-color);\n",
              "    }\n",
              "    80% {\n",
              "      border-color: transparent;\n",
              "      border-right-color: var(--fill-color);\n",
              "      border-bottom-color: var(--fill-color);\n",
              "    }\n",
              "    90% {\n",
              "      border-color: transparent;\n",
              "      border-bottom-color: var(--fill-color);\n",
              "    }\n",
              "  }\n",
              "</style>\n",
              "\n",
              "  <script>\n",
              "    async function quickchart(key) {\n",
              "      const quickchartButtonEl =\n",
              "        document.querySelector('#' + key + ' button');\n",
              "      quickchartButtonEl.disabled = true;  // To prevent multiple clicks.\n",
              "      quickchartButtonEl.classList.add('colab-df-spinner');\n",
              "      try {\n",
              "        const charts = await google.colab.kernel.invokeFunction(\n",
              "            'suggestCharts', [key], {});\n",
              "      } catch (error) {\n",
              "        console.error('Error during call to suggestCharts:', error);\n",
              "      }\n",
              "      quickchartButtonEl.classList.remove('colab-df-spinner');\n",
              "      quickchartButtonEl.classList.add('colab-df-quickchart-complete');\n",
              "    }\n",
              "    (() => {\n",
              "      let quickchartButtonEl =\n",
              "        document.querySelector('#df-be4e63dd-146e-4c2c-822e-a3f2e4e53b91 button');\n",
              "      quickchartButtonEl.style.display =\n",
              "        google.colab.kernel.accessAllowed ? 'block' : 'none';\n",
              "    })();\n",
              "  </script>\n",
              "</div>\n",
              "    </div>\n",
              "  </div>\n"
            ]
          },
          "metadata": {},
          "execution_count": 5
        }
      ]
    },
    {
      "cell_type": "code",
      "source": [
        "data.info()"
      ],
      "metadata": {
        "id": "l3lKOQxjNIC7",
        "colab": {
          "base_uri": "https://localhost:8080/"
        },
        "outputId": "1531cc64-db59-4804-a4d9-f4bf25829fb3"
      },
      "execution_count": 6,
      "outputs": [
        {
          "output_type": "stream",
          "name": "stdout",
          "text": [
            "<class 'pandas.core.frame.DataFrame'>\n",
            "RangeIndex: 219 entries, 0 to 218\n",
            "Data columns (total 3 columns):\n",
            " #   Column     Non-Null Count  Dtype \n",
            "---  ------     --------------  ----- \n",
            " 0   Kelurahan  219 non-null    object\n",
            " 1   Kecamatan  219 non-null    object\n",
            " 2   Jumlah     219 non-null    int64 \n",
            "dtypes: int64(1), object(2)\n",
            "memory usage: 5.3+ KB\n"
          ]
        }
      ]
    },
    {
      "cell_type": "markdown",
      "source": [
        "Dataset terdiri 3 kolom:\n",
        "\n",
        "- Kelurahan : Nama Kelurahan di Kota Yogyakarta, Kabupaten Sleman, dan Kabupaten Kulonprogo\n",
        "- Kecamatan : Nama Kecamatan di Kota Yogyakarta, Kabupaten Sleman, dan Kabupaten Kulonprogo\n",
        "- Jumlah : Jumlah keluarga miskin di setiap kelurahan"
      ],
      "metadata": {
        "id": "snZGQSQq7gXD"
      }
    },
    {
      "cell_type": "markdown",
      "source": [
        "### 2. Memilih PSU"
      ],
      "metadata": {
        "id": "FueBaP3U_0PK"
      }
    },
    {
      "cell_type": "markdown",
      "source": [
        "- Sejumlah 10 kecamatan akan diambil sebagai PSU\n",
        "- Setiap Kelurahan memiliki jumlah keluarga miskin yang berbeda-beda"
      ],
      "metadata": {
        "id": "fSmXVfew8Vex"
      }
    },
    {
      "cell_type": "code",
      "source": [
        "data['Kecamatan'].nunique()"
      ],
      "metadata": {
        "colab": {
          "base_uri": "https://localhost:8080/"
        },
        "id": "kfLqsWzGfWT2",
        "outputId": "6bc1376e-b162-4993-9e65-903e83f91a96"
      },
      "execution_count": 7,
      "outputs": [
        {
          "output_type": "execute_result",
          "data": {
            "text/plain": [
              "43"
            ]
          },
          "metadata": {},
          "execution_count": 7
        }
      ]
    },
    {
      "cell_type": "code",
      "source": [
        "data['Kelurahan'].nunique()"
      ],
      "metadata": {
        "colab": {
          "base_uri": "https://localhost:8080/"
        },
        "id": "lyDt14OqfxvY",
        "outputId": "f1a6c599-b29a-46a9-c14a-b16c01d10b6d"
      },
      "execution_count": 8,
      "outputs": [
        {
          "output_type": "execute_result",
          "data": {
            "text/plain": [
              "215"
            ]
          },
          "metadata": {},
          "execution_count": 8
        }
      ]
    },
    {
      "cell_type": "code",
      "source": [
        "# Summary variables\n",
        "\n",
        "N = 43                 # jumlah seluruh Kecamatan di Kota Yogyakarta, Kabupaten Sleman, dan Kabupaten Kulonprogo\n",
        "n = 10                 # jumlah Kecamatan yang akan dijadikan sampel\n",
        "pop_mean = np.mean(data['Jumlah'])\n",
        "\n",
        "print(f\"Jumlah Kecamatan di Kota Yogyakarta, Kabupaten Sleman, dan Kabupaten Kulonprogo                               : {N} kecamatan\")\n",
        "print(f\"Jumlah Kecamatan yang akan diambil sebagai sampel                                                             : {n} kecamatan\")\n",
        "print(f'Rata-rata jumlah keluarga miskin per Kelurahan di Kota Yogyakarta, Kabupaten Sleman, dan Kabupaten Kulonprogo : {pop_mean:.0f} orang  ')"
      ],
      "metadata": {
        "id": "9PgypnVh9PQy",
        "colab": {
          "base_uri": "https://localhost:8080/"
        },
        "outputId": "70f3c800-36bb-4db1-dcef-f4c3a7d2e23f"
      },
      "execution_count": 9,
      "outputs": [
        {
          "output_type": "stream",
          "name": "stdout",
          "text": [
            "Jumlah Kecamatan di Kota Yogyakarta, Kabupaten Sleman, dan Kabupaten Kulonprogo                               : 43 kecamatan\n",
            "Jumlah Kecamatan yang akan diambil sebagai sampel                                                             : 10 kecamatan\n",
            "Rata-rata jumlah keluarga miskin per Kelurahan di Kota Yogyakarta, Kabupaten Sleman, dan Kabupaten Kulonprogo : 352 orang  \n"
          ]
        }
      ]
    },
    {
      "cell_type": "code",
      "source": [
        "# Random sampling 10 Kecamatan\n",
        "\n",
        "unique_kecamatan = data.groupby('Kecamatan', group_keys=False).apply(lambda data: data.sample(1))\n",
        "sample_kecamatan = unique_kecamatan['Kecamatan'].sample(n = 10, random_state = 3)\n",
        "sample_kecamatan"
      ],
      "metadata": {
        "id": "KY7LJ7Sk96W9",
        "colab": {
          "base_uri": "https://localhost:8080/"
        },
        "outputId": "59a2f4a2-1245-431a-969d-dcbc09ca6e41"
      },
      "execution_count": 10,
      "outputs": [
        {
          "output_type": "execute_result",
          "data": {
            "text/plain": [
              "186        Pengasih\n",
              "123      Umbulharjo\n",
              "34         Ngemplak\n",
              "103       Ngampilan\n",
              "102    Gedongtengen\n",
              "97     Gondokusuman\n",
              "171           Galur\n",
              "61        Prambanan\n",
              "44           Tempel\n",
              "113          Kraton\n",
              "Name: Kecamatan, dtype: object"
            ]
          },
          "metadata": {},
          "execution_count": 10
        }
      ]
    },
    {
      "cell_type": "code",
      "source": [
        "# 10 Kecamatan yang terpilih secara random\n",
        "\n",
        "kecamatan = data['Kecamatan']\n",
        "\n",
        "jumlah_kelurahan = data[kecamatan.isin(['Pengasih',\n",
        " 'Umbulharjo',\n",
        " 'Ngemplak',\n",
        " 'Ngampilan',\n",
        " 'Gedongtengen',\n",
        " 'Gondokusuman',\n",
        " 'Galur',\n",
        " 'Prambanan',\n",
        " 'Tempel',\n",
        " 'Kraton'])].groupby('Kecamatan')['Kelurahan'].count()\\\n",
        ".reset_index(name = 'jumlah_kelurahan')\n",
        "\n",
        "jumlah_keluarga_miskin = data[kecamatan.isin(['Pengasih',\n",
        " 'Umbulharjo',\n",
        " 'Ngemplak',\n",
        " 'Ngampilan',\n",
        " 'Gedongtengen',\n",
        " 'Gondokusuman',\n",
        " 'Galur',\n",
        " 'Prambanan',\n",
        " 'Tempel',\n",
        " 'Kraton'])].groupby('Kecamatan')['Jumlah'].sum()\\\n",
        ".reset_index(name = 'Jumlah')\n",
        "\n",
        "kecamatan_terpilih = pd.merge(jumlah_kelurahan, jumlah_keluarga_miskin, on=['Kecamatan'])\n",
        "kecamatan_terpilih"
      ],
      "metadata": {
        "id": "aG4o5xQu-Bvn",
        "colab": {
          "base_uri": "https://localhost:8080/",
          "height": 363
        },
        "outputId": "7196c9b5-a7d6-402a-dc7a-994ff2effa35"
      },
      "execution_count": 11,
      "outputs": [
        {
          "output_type": "execute_result",
          "data": {
            "text/plain": [
              "      Kecamatan  jumlah_kelurahan  Jumlah\n",
              "0         Galur                 7     849\n",
              "1  Gedongtengen                 2     701\n",
              "2  Gondokusuman                 5    1704\n",
              "3        Kraton                 3    1166\n",
              "4     Ngampilan                 2     567\n",
              "5      Ngemplak                 5    1531\n",
              "6      Pengasih                 7    3123\n",
              "7     Prambanan                 6    2435\n",
              "8        Tempel                 8    2414\n",
              "9    Umbulharjo                 7    1845"
            ],
            "text/html": [
              "\n",
              "  <div id=\"df-2333d96a-1497-43ac-8434-e1f07f9f21c3\" class=\"colab-df-container\">\n",
              "    <div>\n",
              "<style scoped>\n",
              "    .dataframe tbody tr th:only-of-type {\n",
              "        vertical-align: middle;\n",
              "    }\n",
              "\n",
              "    .dataframe tbody tr th {\n",
              "        vertical-align: top;\n",
              "    }\n",
              "\n",
              "    .dataframe thead th {\n",
              "        text-align: right;\n",
              "    }\n",
              "</style>\n",
              "<table border=\"1\" class=\"dataframe\">\n",
              "  <thead>\n",
              "    <tr style=\"text-align: right;\">\n",
              "      <th></th>\n",
              "      <th>Kecamatan</th>\n",
              "      <th>jumlah_kelurahan</th>\n",
              "      <th>Jumlah</th>\n",
              "    </tr>\n",
              "  </thead>\n",
              "  <tbody>\n",
              "    <tr>\n",
              "      <th>0</th>\n",
              "      <td>Galur</td>\n",
              "      <td>7</td>\n",
              "      <td>849</td>\n",
              "    </tr>\n",
              "    <tr>\n",
              "      <th>1</th>\n",
              "      <td>Gedongtengen</td>\n",
              "      <td>2</td>\n",
              "      <td>701</td>\n",
              "    </tr>\n",
              "    <tr>\n",
              "      <th>2</th>\n",
              "      <td>Gondokusuman</td>\n",
              "      <td>5</td>\n",
              "      <td>1704</td>\n",
              "    </tr>\n",
              "    <tr>\n",
              "      <th>3</th>\n",
              "      <td>Kraton</td>\n",
              "      <td>3</td>\n",
              "      <td>1166</td>\n",
              "    </tr>\n",
              "    <tr>\n",
              "      <th>4</th>\n",
              "      <td>Ngampilan</td>\n",
              "      <td>2</td>\n",
              "      <td>567</td>\n",
              "    </tr>\n",
              "    <tr>\n",
              "      <th>5</th>\n",
              "      <td>Ngemplak</td>\n",
              "      <td>5</td>\n",
              "      <td>1531</td>\n",
              "    </tr>\n",
              "    <tr>\n",
              "      <th>6</th>\n",
              "      <td>Pengasih</td>\n",
              "      <td>7</td>\n",
              "      <td>3123</td>\n",
              "    </tr>\n",
              "    <tr>\n",
              "      <th>7</th>\n",
              "      <td>Prambanan</td>\n",
              "      <td>6</td>\n",
              "      <td>2435</td>\n",
              "    </tr>\n",
              "    <tr>\n",
              "      <th>8</th>\n",
              "      <td>Tempel</td>\n",
              "      <td>8</td>\n",
              "      <td>2414</td>\n",
              "    </tr>\n",
              "    <tr>\n",
              "      <th>9</th>\n",
              "      <td>Umbulharjo</td>\n",
              "      <td>7</td>\n",
              "      <td>1845</td>\n",
              "    </tr>\n",
              "  </tbody>\n",
              "</table>\n",
              "</div>\n",
              "    <div class=\"colab-df-buttons\">\n",
              "\n",
              "  <div class=\"colab-df-container\">\n",
              "    <button class=\"colab-df-convert\" onclick=\"convertToInteractive('df-2333d96a-1497-43ac-8434-e1f07f9f21c3')\"\n",
              "            title=\"Convert this dataframe to an interactive table.\"\n",
              "            style=\"display:none;\">\n",
              "\n",
              "  <svg xmlns=\"http://www.w3.org/2000/svg\" height=\"24px\" viewBox=\"0 -960 960 960\">\n",
              "    <path d=\"M120-120v-720h720v720H120Zm60-500h600v-160H180v160Zm220 220h160v-160H400v160Zm0 220h160v-160H400v160ZM180-400h160v-160H180v160Zm440 0h160v-160H620v160ZM180-180h160v-160H180v160Zm440 0h160v-160H620v160Z\"/>\n",
              "  </svg>\n",
              "    </button>\n",
              "\n",
              "  <style>\n",
              "    .colab-df-container {\n",
              "      display:flex;\n",
              "      gap: 12px;\n",
              "    }\n",
              "\n",
              "    .colab-df-convert {\n",
              "      background-color: #E8F0FE;\n",
              "      border: none;\n",
              "      border-radius: 50%;\n",
              "      cursor: pointer;\n",
              "      display: none;\n",
              "      fill: #1967D2;\n",
              "      height: 32px;\n",
              "      padding: 0 0 0 0;\n",
              "      width: 32px;\n",
              "    }\n",
              "\n",
              "    .colab-df-convert:hover {\n",
              "      background-color: #E2EBFA;\n",
              "      box-shadow: 0px 1px 2px rgba(60, 64, 67, 0.3), 0px 1px 3px 1px rgba(60, 64, 67, 0.15);\n",
              "      fill: #174EA6;\n",
              "    }\n",
              "\n",
              "    .colab-df-buttons div {\n",
              "      margin-bottom: 4px;\n",
              "    }\n",
              "\n",
              "    [theme=dark] .colab-df-convert {\n",
              "      background-color: #3B4455;\n",
              "      fill: #D2E3FC;\n",
              "    }\n",
              "\n",
              "    [theme=dark] .colab-df-convert:hover {\n",
              "      background-color: #434B5C;\n",
              "      box-shadow: 0px 1px 3px 1px rgba(0, 0, 0, 0.15);\n",
              "      filter: drop-shadow(0px 1px 2px rgba(0, 0, 0, 0.3));\n",
              "      fill: #FFFFFF;\n",
              "    }\n",
              "  </style>\n",
              "\n",
              "    <script>\n",
              "      const buttonEl =\n",
              "        document.querySelector('#df-2333d96a-1497-43ac-8434-e1f07f9f21c3 button.colab-df-convert');\n",
              "      buttonEl.style.display =\n",
              "        google.colab.kernel.accessAllowed ? 'block' : 'none';\n",
              "\n",
              "      async function convertToInteractive(key) {\n",
              "        const element = document.querySelector('#df-2333d96a-1497-43ac-8434-e1f07f9f21c3');\n",
              "        const dataTable =\n",
              "          await google.colab.kernel.invokeFunction('convertToInteractive',\n",
              "                                                    [key], {});\n",
              "        if (!dataTable) return;\n",
              "\n",
              "        const docLinkHtml = 'Like what you see? Visit the ' +\n",
              "          '<a target=\"_blank\" href=https://colab.research.google.com/notebooks/data_table.ipynb>data table notebook</a>'\n",
              "          + ' to learn more about interactive tables.';\n",
              "        element.innerHTML = '';\n",
              "        dataTable['output_type'] = 'display_data';\n",
              "        await google.colab.output.renderOutput(dataTable, element);\n",
              "        const docLink = document.createElement('div');\n",
              "        docLink.innerHTML = docLinkHtml;\n",
              "        element.appendChild(docLink);\n",
              "      }\n",
              "    </script>\n",
              "  </div>\n",
              "\n",
              "\n",
              "<div id=\"df-0242768d-1450-4315-b2e2-627b55203f77\">\n",
              "  <button class=\"colab-df-quickchart\" onclick=\"quickchart('df-0242768d-1450-4315-b2e2-627b55203f77')\"\n",
              "            title=\"Suggest charts.\"\n",
              "            style=\"display:none;\">\n",
              "\n",
              "<svg xmlns=\"http://www.w3.org/2000/svg\" height=\"24px\"viewBox=\"0 0 24 24\"\n",
              "     width=\"24px\">\n",
              "    <g>\n",
              "        <path d=\"M19 3H5c-1.1 0-2 .9-2 2v14c0 1.1.9 2 2 2h14c1.1 0 2-.9 2-2V5c0-1.1-.9-2-2-2zM9 17H7v-7h2v7zm4 0h-2V7h2v10zm4 0h-2v-4h2v4z\"/>\n",
              "    </g>\n",
              "</svg>\n",
              "  </button>\n",
              "\n",
              "<style>\n",
              "  .colab-df-quickchart {\n",
              "      --bg-color: #E8F0FE;\n",
              "      --fill-color: #1967D2;\n",
              "      --hover-bg-color: #E2EBFA;\n",
              "      --hover-fill-color: #174EA6;\n",
              "      --disabled-fill-color: #AAA;\n",
              "      --disabled-bg-color: #DDD;\n",
              "  }\n",
              "\n",
              "  [theme=dark] .colab-df-quickchart {\n",
              "      --bg-color: #3B4455;\n",
              "      --fill-color: #D2E3FC;\n",
              "      --hover-bg-color: #434B5C;\n",
              "      --hover-fill-color: #FFFFFF;\n",
              "      --disabled-bg-color: #3B4455;\n",
              "      --disabled-fill-color: #666;\n",
              "  }\n",
              "\n",
              "  .colab-df-quickchart {\n",
              "    background-color: var(--bg-color);\n",
              "    border: none;\n",
              "    border-radius: 50%;\n",
              "    cursor: pointer;\n",
              "    display: none;\n",
              "    fill: var(--fill-color);\n",
              "    height: 32px;\n",
              "    padding: 0;\n",
              "    width: 32px;\n",
              "  }\n",
              "\n",
              "  .colab-df-quickchart:hover {\n",
              "    background-color: var(--hover-bg-color);\n",
              "    box-shadow: 0 1px 2px rgba(60, 64, 67, 0.3), 0 1px 3px 1px rgba(60, 64, 67, 0.15);\n",
              "    fill: var(--button-hover-fill-color);\n",
              "  }\n",
              "\n",
              "  .colab-df-quickchart-complete:disabled,\n",
              "  .colab-df-quickchart-complete:disabled:hover {\n",
              "    background-color: var(--disabled-bg-color);\n",
              "    fill: var(--disabled-fill-color);\n",
              "    box-shadow: none;\n",
              "  }\n",
              "\n",
              "  .colab-df-spinner {\n",
              "    border: 2px solid var(--fill-color);\n",
              "    border-color: transparent;\n",
              "    border-bottom-color: var(--fill-color);\n",
              "    animation:\n",
              "      spin 1s steps(1) infinite;\n",
              "  }\n",
              "\n",
              "  @keyframes spin {\n",
              "    0% {\n",
              "      border-color: transparent;\n",
              "      border-bottom-color: var(--fill-color);\n",
              "      border-left-color: var(--fill-color);\n",
              "    }\n",
              "    20% {\n",
              "      border-color: transparent;\n",
              "      border-left-color: var(--fill-color);\n",
              "      border-top-color: var(--fill-color);\n",
              "    }\n",
              "    30% {\n",
              "      border-color: transparent;\n",
              "      border-left-color: var(--fill-color);\n",
              "      border-top-color: var(--fill-color);\n",
              "      border-right-color: var(--fill-color);\n",
              "    }\n",
              "    40% {\n",
              "      border-color: transparent;\n",
              "      border-right-color: var(--fill-color);\n",
              "      border-top-color: var(--fill-color);\n",
              "    }\n",
              "    60% {\n",
              "      border-color: transparent;\n",
              "      border-right-color: var(--fill-color);\n",
              "    }\n",
              "    80% {\n",
              "      border-color: transparent;\n",
              "      border-right-color: var(--fill-color);\n",
              "      border-bottom-color: var(--fill-color);\n",
              "    }\n",
              "    90% {\n",
              "      border-color: transparent;\n",
              "      border-bottom-color: var(--fill-color);\n",
              "    }\n",
              "  }\n",
              "</style>\n",
              "\n",
              "  <script>\n",
              "    async function quickchart(key) {\n",
              "      const quickchartButtonEl =\n",
              "        document.querySelector('#' + key + ' button');\n",
              "      quickchartButtonEl.disabled = true;  // To prevent multiple clicks.\n",
              "      quickchartButtonEl.classList.add('colab-df-spinner');\n",
              "      try {\n",
              "        const charts = await google.colab.kernel.invokeFunction(\n",
              "            'suggestCharts', [key], {});\n",
              "      } catch (error) {\n",
              "        console.error('Error during call to suggestCharts:', error);\n",
              "      }\n",
              "      quickchartButtonEl.classList.remove('colab-df-spinner');\n",
              "      quickchartButtonEl.classList.add('colab-df-quickchart-complete');\n",
              "    }\n",
              "    (() => {\n",
              "      let quickchartButtonEl =\n",
              "        document.querySelector('#df-0242768d-1450-4315-b2e2-627b55203f77 button');\n",
              "      quickchartButtonEl.style.display =\n",
              "        google.colab.kernel.accessAllowed ? 'block' : 'none';\n",
              "    })();\n",
              "  </script>\n",
              "</div>\n",
              "    </div>\n",
              "  </div>\n"
            ]
          },
          "metadata": {},
          "execution_count": 11
        }
      ]
    },
    {
      "cell_type": "code",
      "source": [
        "# Mencari nilai mu_r\n",
        "# y_total adalah jumlah keluarga miskin dari Kecamatan yang dijadikan sample\n",
        "\n",
        "y_total = np.sum(kecamatan_terpilih['Jumlah'])\n",
        "\n",
        "# M adalah jumlah Kelurahan dari Kecamatan yang dijadikan sample\n",
        "M = np.sum(kecamatan_terpilih['jumlah_kelurahan'])\n",
        "\n",
        "mu_r = y_total / M\n",
        "\n",
        "print(f'Total keluarga miskin dari seluruh Kecamatan yang ada di sampel          : {y_total} orang')\n",
        "print(f'Total jumlah Kelurahan dari seluruh Kecamatan yang ada di sampel         : {M} kelurahan')\n",
        "print(f'Estimasi rata-rata jumlah keluarga miskin                                : {mu_r:.0f} orang')"
      ],
      "metadata": {
        "id": "NEOCOtzS_Q5j",
        "colab": {
          "base_uri": "https://localhost:8080/"
        },
        "outputId": "197c6d01-48d3-4094-8b7e-78450d38684c"
      },
      "execution_count": 12,
      "outputs": [
        {
          "output_type": "stream",
          "name": "stdout",
          "text": [
            "Total keluarga miskin dari seluruh Kecamatan yang ada di sampel          : 16335 orang\n",
            "Total jumlah Kelurahan dari seluruh Kecamatan yang ada di sampel         : 52 kelurahan\n",
            "Estimasi rata-rata jumlah keluarga miskin                                : 314 orang\n"
          ]
        }
      ]
    },
    {
      "cell_type": "markdown",
      "source": [
        "### 3. Estimasi dengan 95% Confidence Interval"
      ],
      "metadata": {
        "id": "fTOFxE8M_qA-"
      }
    },
    {
      "cell_type": "code",
      "source": [
        "# menghitung sample varians terlebih dahulu\n",
        "\n",
        "sc_square = np.sum((kecamatan_terpilih[\"Jumlah\"] - mu_r*kecamatan_terpilih[\"jumlah_kelurahan\"])**2) / (n-1)\n",
        "print(f\"Varians sampel                        : ({np.sqrt(sc_square):.0f})^2\")\n",
        "\n",
        "# selanjutnya menghitung estimator varians total populasi\n",
        "\n",
        "var_y_total_est = N*(N-n)*(sc_square/n)\n",
        "print(f'Varians dari estimator total populasi : ({np.sqrt(var_y_total_est):.0f}^2)')"
      ],
      "metadata": {
        "id": "wi6ih71q_qmd",
        "colab": {
          "base_uri": "https://localhost:8080/"
        },
        "outputId": "4d2ef960-d0b5-4a2c-ce35-2f8959c3cdec"
      },
      "execution_count": 13,
      "outputs": [
        {
          "output_type": "stream",
          "name": "stdout",
          "text": [
            "Varians sampel                        : (596)^2\n",
            "Varians dari estimator total populasi : (7095^2)\n"
          ]
        }
      ]
    },
    {
      "cell_type": "code",
      "source": [
        "# mencari rata-rata Kelurahan dari setiap Kecamatan yang ada di sample\n",
        "\n",
        "M_bar = np.mean(kecamatan_terpilih[\"jumlah_kelurahan\"])\n",
        "print(f\"Rata-rata jumlah Kelurahan per Kecamatan                      : {M_bar:.0f}\")\n",
        "\n",
        "\n",
        "# hitung total dari populasi berdasarkan rata-rata\n",
        "\n",
        "M_tot_est = N * M_bar\n",
        "print(f\"Estimasi jumlah Kelurahan dari Kecamatan yang ada di sample   : {M_tot_est:.0f}\")\n",
        "\n",
        "\n",
        "# hitung varians dari rata-rata\n",
        "\n",
        "var_y_mean_est = var_y_total_est / (M_tot_est**2)\n",
        "print(f\"The variance of mean ssu. estimator                           : ({np.sqrt(var_y_mean_est):.0f})^2\")"
      ],
      "metadata": {
        "id": "HWCebfN8Ab8g",
        "colab": {
          "base_uri": "https://localhost:8080/"
        },
        "outputId": "15f53418-90e0-420b-d8be-8133f496a1ee"
      },
      "execution_count": 14,
      "outputs": [
        {
          "output_type": "stream",
          "name": "stdout",
          "text": [
            "Rata-rata jumlah Kelurahan per Kecamatan                      : 5\n",
            "Estimasi jumlah Kelurahan dari Kecamatan yang ada di sample   : 224\n",
            "The variance of mean ssu. estimator                           : (32)^2\n"
          ]
        }
      ]
    },
    {
      "cell_type": "code",
      "source": [
        "# menghitung z_stat pada 95% Confidence Interval\n",
        "\n",
        "alpha = 0.05\n",
        "z_stat = stats.norm.ppf(1 - alpha/2.)\n",
        "print(f\"z_stat              : {z_stat:.2f}\")\n",
        "\n",
        "# menghitung margin of error (d)\n",
        "\n",
        "d = z_stat * np.sqrt(var_y_mean_est)\n",
        "print(f\"margin of error (d) : {d:.0f}\")"
      ],
      "metadata": {
        "id": "-EuikdvaAmWz",
        "colab": {
          "base_uri": "https://localhost:8080/"
        },
        "outputId": "944ba446-dafb-4a65-d946-0ecb0db6d958"
      },
      "execution_count": 15,
      "outputs": [
        {
          "output_type": "stream",
          "name": "stdout",
          "text": [
            "z_stat              : 1.96\n",
            "margin of error (d) : 62\n"
          ]
        }
      ]
    },
    {
      "cell_type": "code",
      "source": [
        "# menghitung confidence interval\n",
        "\n",
        "lb = mu_r - d\n",
        "ub = mu_r + d\n",
        "\n",
        "print(f\"Dengan 95% confidence interval, nilai rata-rata asli jumlah keluarga miskin per kelurahan \\n di Kota Yogyakarta, Kabupaten Sleman, dan Kabupaten Kulonprogo berkisar antara {lb:.0f} sampai {ub:.0f} orang\")"
      ],
      "metadata": {
        "id": "I5jdhxlOAoFj",
        "colab": {
          "base_uri": "https://localhost:8080/"
        },
        "outputId": "f9c5a496-20da-4e3d-ce40-dc47feb23a60"
      },
      "execution_count": 16,
      "outputs": [
        {
          "output_type": "stream",
          "name": "stdout",
          "text": [
            "Dengan 95% confidence interval, nilai rata-rata asli jumlah keluarga miskin per kelurahan \n",
            " di Kota Yogyakarta, Kabupaten Sleman, dan Kabupaten Kulonprogo berkisar antara 252 sampai 376 orang\n"
          ]
        }
      ]
    },
    {
      "cell_type": "markdown",
      "source": [
        "### 3. Menghitung Jumlah Kecamatan yang Dibutuhkan Jika Ingin Mengurangi Margin of Error"
      ],
      "metadata": {
        "id": "BCEG7hDlBQuk"
      }
    },
    {
      "cell_type": "code",
      "source": [
        "# Margin of error yang baru\n",
        "B = 5\n",
        "\n",
        "D = ((B*M_bar)**2) / 4\n",
        "print(D)"
      ],
      "metadata": {
        "id": "Pakf6jbUBTSn",
        "colab": {
          "base_uri": "https://localhost:8080/"
        },
        "outputId": "1b48a906-f10a-40b4-b355-cf0d7d36b7a4"
      },
      "execution_count": 17,
      "outputs": [
        {
          "output_type": "stream",
          "name": "stdout",
          "text": [
            "169.0\n"
          ]
        }
      ]
    },
    {
      "cell_type": "code",
      "source": [
        "# Jumlah baru Kecamatan yang dibutuhkan\n",
        "\n",
        "n_new = (N*sc_square) / (N*D + sc_square)\n",
        "print(f'Untuk mendapatkan margin of error sebesar 5%, maka kita harus mengambil sampel sebanyak {n_new:.0f} Kecamatan')"
      ],
      "metadata": {
        "id": "0ir6K5esBWeX",
        "colab": {
          "base_uri": "https://localhost:8080/"
        },
        "outputId": "4f1a53a2-ff57-4634-fadc-38f71f4766d5"
      },
      "execution_count": 18,
      "outputs": [
        {
          "output_type": "stream",
          "name": "stdout",
          "text": [
            "Untuk mendapatkan margin of error sebesar 5%, maka kita harus mengambil sampel sebanyak 42 Kecamatan\n"
          ]
        }
      ]
    }
  ]
}